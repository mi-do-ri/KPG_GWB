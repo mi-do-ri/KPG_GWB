{
 "cells": [
  {
   "cell_type": "code",
   "execution_count": 1,
   "metadata": {},
   "outputs": [
    {
     "name": "stdout",
     "output_type": "stream",
     "text": [
      "f:\\DS Lab\\OT\\KPG_GWB\n"
     ]
    },
    {
     "name": "stderr",
     "output_type": "stream",
     "text": [
      "C:\\Users\\ngtdu\\AppData\\Roaming\\Python\\Python39\\site-packages\\IPython\\core\\magics\\osm.py:417: UserWarning: using dhist requires you to install the `pickleshare` library.\n",
      "  self.shell.db['dhist'] = compress_dhist(dhist)[-100:]\n"
     ]
    }
   ],
   "source": [
    "%cd .."
   ]
  },
  {
   "cell_type": "code",
   "execution_count": 2,
   "metadata": {},
   "outputs": [
    {
     "name": "stderr",
     "output_type": "stream",
     "text": [
      "Using TensorFlow backend.\n",
      "c:\\Users\\ngtdu\\AppData\\Local\\Programs\\Python\\Python39\\lib\\site-packages\\ot\\backend.py:2998: UserWarning: To use TensorflowBackend, you need to activate the tensorflow numpy API. You can activate it by running: \n",
      "from tensorflow.python.ops.numpy_ops import np_config\n",
      "np_config.enable_numpy_behavior()\n",
      "  register_backend(TensorflowBackend())\n"
     ]
    }
   ],
   "source": [
    "import numpy as np\n",
    "import os\n",
    "import ot\n",
    "import scipy.io as sio\n",
    "import torch\n",
    "from sklearn.svm import SVC\n",
    "os.environ[\"KMP_DUPLICATE_LIB_OK\"]=\"TRUE\"\n",
    "\n",
    "from optimal_transport.models import KeypointGW, GW_Barycenter, GW, KPG_RL_GW\n",
    "from optimal_transport.experiments import HDA\n",
    "\n",
    "import matplotlib\n",
    "import matplotlib.pyplot as plt\n",
    "import matplotlib.pylab as pl\n",
    "import ot.plot\n",
    "matplotlib.rcParams['pdf.fonttype'] = 42\n",
    "matplotlib.rcParams['ps.fonttype'] = 42\n",
    "\n",
    "import warnings\n",
    "warnings.filterwarnings('ignore')"
   ]
  },
  {
   "cell_type": "code",
   "execution_count": 3,
   "metadata": {},
   "outputs": [
    {
     "name": "stdout",
     "output_type": "stream",
     "text": [
      "Source:amazon, Target: amazon\n",
      "[KeypointGW] Accuracy: 0.43870967741935485, Runtime: 163.60877633094788\n",
      "optimal\n",
      "optimal\n",
      "[KPG_RL_GW] Accuracy: 0.5516129032258065, Runtime: 15.433043479919434\n",
      "[GW_Barycenter] Accuracy: 0.05806451612903226, Runtime: 16.43430209159851\n",
      "[GW] Accuracy: 0.02903225806451613, Runtime: 1.4735770225524902\n",
      "Source:amazon, Target: dslr\n",
      "[KeypointGW] Accuracy: 0.7548387096774194, Runtime: 178.882164478302\n",
      "optimal\n",
      "optimal\n",
      "[KPG_RL_GW] Accuracy: 0.896774193548387, Runtime: 12.131000518798828\n",
      "[GW_Barycenter] Accuracy: 0.08064516129032258, Runtime: 19.530868530273438\n",
      "[GW] Accuracy: 0.13225806451612904, Runtime: 1.3321785926818848\n",
      "Source:amazon, Target: webcam\n",
      "[KeypointGW] Accuracy: 0.7580645161290323, Runtime: 179.25541234016418\n",
      "optimal\n",
      "optimal\n",
      "[KPG_RL_GW] Accuracy: 0.8096774193548387, Runtime: 14.329817295074463\n",
      "[GW_Barycenter] Accuracy: 0.025806451612903226, Runtime: 119.6790771484375\n",
      "[GW] Accuracy: 0.025806451612903226, Runtime: 1.5362834930419922\n",
      "Source:dslr, Target: amazon\n",
      "[KeypointGW] Accuracy: 0.5161290322580645, Runtime: 198.0251076221466\n",
      "optimal\n",
      "optimal\n",
      "[KPG_RL_GW] Accuracy: 0.5580645161290323, Runtime: 9.673779726028442\n",
      "[GW_Barycenter] Accuracy: 0.07741935483870968, Runtime: 7.272886276245117\n",
      "[GW] Accuracy: 0.06451612903225806, Runtime: 0.9184181690216064\n",
      "Source:dslr, Target: dslr\n",
      "[KeypointGW] Accuracy: 0.832258064516129, Runtime: 86.00663495063782\n",
      "optimal\n",
      "optimal\n",
      "[KPG_RL_GW] Accuracy: 0.9096774193548387, Runtime: 9.329305648803711\n",
      "[GW_Barycenter] Accuracy: 0.05806451612903226, Runtime: 112.07728433609009\n",
      "[GW] Accuracy: 0.016129032258064516, Runtime: 0.8743488788604736\n",
      "Source:dslr, Target: webcam\n",
      "[KeypointGW] Accuracy: 0.7677419354838709, Runtime: 135.28386306762695\n",
      "optimal\n",
      "optimal\n",
      "[KPG_RL_GW] Accuracy: 0.8387096774193549, Runtime: 10.055910587310791\n",
      "[GW_Barycenter] Accuracy: 0.09032258064516129, Runtime: 125.07932662963867\n",
      "[GW] Accuracy: 0.08709677419354839, Runtime: 1.0013294219970703\n",
      "Source:webcam, Target: amazon\n",
      "[KeypointGW] Accuracy: 0.47419354838709676, Runtime: 133.05973625183105\n",
      "optimal\n",
      "optimal\n",
      "[KPG_RL_GW] Accuracy: 0.5548387096774193, Runtime: 9.562933683395386\n",
      "[GW_Barycenter] Accuracy: 0.07419354838709677, Runtime: 82.54813241958618\n",
      "[GW] Accuracy: 0.02903225806451613, Runtime: 0.9215290546417236\n",
      "Source:webcam, Target: dslr\n",
      "[KeypointGW] Accuracy: 0.8096774193548387, Runtime: 131.81409811973572\n",
      "optimal\n",
      "optimal\n",
      "[KPG_RL_GW] Accuracy: 0.932258064516129, Runtime: 9.158166408538818\n",
      "[GW_Barycenter] Accuracy: 0.04516129032258064, Runtime: 106.31268668174744\n",
      "[GW] Accuracy: 0.041935483870967745, Runtime: 0.9500668048858643\n",
      "Source:webcam, Target: webcam\n",
      "[KeypointGW] Accuracy: 0.7580645161290323, Runtime: 132.08522200584412\n",
      "optimal\n",
      "optimal\n",
      "[KPG_RL_GW] Accuracy: 0.8161290322580645, Runtime: 8.955009460449219\n",
      "[GW_Barycenter] Accuracy: 0.12580645161290321, Runtime: 100.22455334663391\n",
      "[GW] Accuracy: 0.08387096774193549, Runtime: 1.005312442779541\n",
      "Mean accuracy for KeypointGW: 0.678853046594982\n",
      "Mean accuracy for KPG_RL_GW: 0.7630824372759857\n",
      "Mean accuracy for GW_Barycenter: 0.07060931899641577\n",
      "Mean accuracy for GW: 0.056630824372759854\n"
     ]
    }
   ],
   "source": [
    "#@title HDA\n",
    "n_keypoints = 31\n",
    "model = {\n",
    "    \"KeypointGW\": KeypointGW(loss_fun='square_loss', num_free_barycenters=n_keypoints, n_clusters=n_keypoints, sinkhorn_reg=0.05, temperature=0.05, alpha=0.5, tol=1e-10, max_iters=100),\n",
    "    \"KPG_RL_GW\": KPG_RL_GW(cost_function='L2', algorithm = \"lp\", max_iteration=1000),\n",
    "    \"GW_Barycenter\": GW_Barycenter(N=2*n_keypoints, loss_fun='square_loss', max_iters=10000, log=True),\n",
    "    \"GW\": GW(loss_fun='square_loss', max_iters=1000),\n",
    "}\n",
    "experiment = HDA(model=model, log_dir=\"logs\")\n",
    "results = experiment()"
   ]
  }
 ],
 "metadata": {
  "kernelspec": {
   "display_name": "Python 3",
   "language": "python",
   "name": "python3"
  },
  "language_info": {
   "codemirror_mode": {
    "name": "ipython",
    "version": 3
   },
   "file_extension": ".py",
   "mimetype": "text/x-python",
   "name": "python",
   "nbconvert_exporter": "python",
   "pygments_lexer": "ipython3",
   "version": "3.9.11"
  }
 },
 "nbformat": 4,
 "nbformat_minor": 2
}
