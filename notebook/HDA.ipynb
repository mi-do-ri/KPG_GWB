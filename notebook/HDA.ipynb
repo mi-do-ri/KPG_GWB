{
 "cells": [
  {
   "cell_type": "code",
   "execution_count": 1,
   "metadata": {},
   "outputs": [
    {
     "name": "stdout",
     "output_type": "stream",
     "text": [
      "/data2/Duong/05. ot/KPG_GWB\n"
     ]
    }
   ],
   "source": [
    "%cd .."
   ]
  },
  {
   "cell_type": "code",
   "execution_count": 2,
   "metadata": {},
   "outputs": [],
   "source": [
    "# %pip install cvxpy"
   ]
  },
  {
   "cell_type": "code",
   "execution_count": 3,
   "metadata": {},
   "outputs": [],
   "source": [
    "# %pip install POT"
   ]
  },
  {
   "cell_type": "code",
   "execution_count": 4,
   "metadata": {},
   "outputs": [],
   "source": [
    "import numpy as np\n",
    "import os\n",
    "import ot\n",
    "import scipy.io as sio\n",
    "import torch\n",
    "from sklearn.svm import SVC\n",
    "os.environ[\"KMP_DUPLICATE_LIB_OK\"]=\"TRUE\"\n",
    "\n",
    "from optimal_transport.models import KeypointGW, GW_Barycenter, GW, KPG_RL_GW\n",
    "from optimal_transport.experiments import HDA\n",
    "\n",
    "import matplotlib\n",
    "import matplotlib.pyplot as plt\n",
    "import matplotlib.pylab as pl\n",
    "import ot.plot\n",
    "matplotlib.rcParams['pdf.fonttype'] = 42\n",
    "matplotlib.rcParams['ps.fonttype'] = 42\n",
    "\n",
    "import warnings\n",
    "warnings.filterwarnings('ignore')"
   ]
  },
  {
   "cell_type": "code",
   "execution_count": 5,
   "metadata": {},
   "outputs": [
    {
     "name": "stdout",
     "output_type": "stream",
     "text": [
      "Source:amazon, Target: amazon\n",
      "[KeypointGW] Accuracy: 0.5419354838709678, Runtime: 95.34613704681396\n",
      "[KPG_RL_GW] Accuracy: 0.5516129032258065, Runtime: 13.89728331565857\n",
      "[GW_Barycenter] Accuracy: 0.05806451612903226, Runtime: 20.99534010887146\n",
      "[GW] Accuracy: 0.02903225806451613, Runtime: 1.9006130695343018\n",
      "Source:amazon, Target: dslr\n",
      "[KeypointGW] Accuracy: 0.9064516129032258, Runtime: 96.24712371826172\n",
      "[KPG_RL_GW] Accuracy: 0.896774193548387, Runtime: 14.119360208511353\n",
      "[GW_Barycenter] Accuracy: 0.08064516129032258, Runtime: 21.291775703430176\n",
      "[GW] Accuracy: 0.13225806451612904, Runtime: 1.3619966506958008\n",
      "Source:amazon, Target: webcam\n",
      "[KeypointGW] Accuracy: 0.8, Runtime: 82.6721043586731\n",
      "[KPG_RL_GW] Accuracy: 0.8096774193548387, Runtime: 14.385608911514282\n",
      "[GW_Barycenter] Accuracy: 0.025806451612903226, Runtime: 222.94849944114685\n",
      "[GW] Accuracy: 0.025806451612903226, Runtime: 1.7097487449645996\n",
      "Source:dslr, Target: amazon\n",
      "[KeypointGW] Accuracy: 0.5645161290322581, Runtime: 23.214282751083374\n",
      "[KPG_RL_GW] Accuracy: 0.5580645161290323, Runtime: 13.106799602508545\n",
      "[GW_Barycenter] Accuracy: 0.07741935483870968, Runtime: 19.429071187973022\n",
      "[GW] Accuracy: 0.06451612903225806, Runtime: 1.407705307006836\n",
      "Source:dslr, Target: dslr\n",
      "[KeypointGW] Accuracy: 0.9387096774193548, Runtime: 26.876824617385864\n",
      "[KPG_RL_GW] Accuracy: 0.9096774193548387, Runtime: 15.217032670974731\n",
      "[GW_Barycenter] Accuracy: 0.05806451612903226, Runtime: 517.8143112659454\n",
      "[GW] Accuracy: 0.016129032258064516, Runtime: 2.444704294204712\n",
      "Source:dslr, Target: webcam\n",
      "[KeypointGW] Accuracy: 0.8451612903225807, Runtime: 30.684844493865967\n",
      "[KPG_RL_GW] Accuracy: 0.8387096774193549, Runtime: 15.042826414108276\n",
      "[GW_Barycenter] Accuracy: 0.09032258064516129, Runtime: 629.8466410636902\n",
      "[GW] Accuracy: 0.08709677419354839, Runtime: 2.6108603477478027\n",
      "Source:webcam, Target: amazon\n",
      "[KeypointGW] Accuracy: 0.5903225806451613, Runtime: 64.94649767875671\n",
      "[KPG_RL_GW] Accuracy: 0.5548387096774193, Runtime: 18.77446937561035\n",
      "[GW_Barycenter] Accuracy: 0.07419354838709677, Runtime: 405.23433446884155\n",
      "[GW] Accuracy: 0.02903225806451613, Runtime: 1.8991308212280273\n",
      "Source:webcam, Target: dslr\n",
      "[KeypointGW] Accuracy: 0.9451612903225807, Runtime: 54.09278845787048\n",
      "[KPG_RL_GW] Accuracy: 0.932258064516129, Runtime: 16.862000703811646\n",
      "[GW_Barycenter] Accuracy: 0.04516129032258064, Runtime: 552.6997427940369\n",
      "[GW] Accuracy: 0.041935483870967745, Runtime: 1.8706581592559814\n",
      "Source:webcam, Target: webcam\n",
      "[KeypointGW] Accuracy: 0.8258064516129032, Runtime: 42.073858976364136\n",
      "[KPG_RL_GW] Accuracy: 0.8161290322580645, Runtime: 15.84306263923645\n",
      "[GW_Barycenter] Accuracy: 0.12580645161290321, Runtime: 478.15882873535156\n",
      "[GW] Accuracy: 0.08387096774193549, Runtime: 2.4264962673187256\n",
      "Mean accuracy for KeypointGW: 0.7731182795698925\n",
      "Mean accuracy for KPG_RL_GW: 0.7630824372759857\n",
      "Mean accuracy for GW_Barycenter: 0.07060931899641577\n",
      "Mean accuracy for GW: 0.056630824372759854\n"
     ]
    }
   ],
   "source": [
    "#@title HDA\n",
    "n_keypoints = 31\n",
    "model = {\n",
    "    \"KeypointGW\": KeypointGW(loss_fun='square_loss', num_free_barycenters=n_keypoints, n_clusters=n_keypoints, alpha=0.1, tol = 1e-9, max_iters=100, sinkhorn_max_iters=100),\n",
    "    \"KPG_RL_GW\": KPG_RL_GW(cost_function='L2', algorithm = \"lp\", max_iteration=1000),\n",
    "    \"GW_Barycenter\": GW_Barycenter(N=2*n_keypoints, loss_fun='square_loss', max_iters=10000, log=True),\n",
    "    \"GW\": GW(loss_fun='square_loss', max_iters=1000),\n",
    "}\n",
    "experiment = HDA(model=model, log_dir=\"logs\")\n",
    "results = experiment()"
   ]
  }
 ],
 "metadata": {
  "kernelspec": {
   "display_name": "Python 3",
   "language": "python",
   "name": "python3"
  },
  "language_info": {
   "codemirror_mode": {
    "name": "ipython",
    "version": 3
   },
   "file_extension": ".py",
   "mimetype": "text/x-python",
   "name": "python",
   "nbconvert_exporter": "python",
   "pygments_lexer": "ipython3",
   "version": "3.11.7"
  }
 },
 "nbformat": 4,
 "nbformat_minor": 2
}
